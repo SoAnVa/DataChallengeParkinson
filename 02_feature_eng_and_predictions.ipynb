{
 "cells": [
  {
   "cell_type": "code",
   "execution_count": 1,
   "metadata": {},
   "outputs": [],
   "source": [
    "import numpy as np \n",
    "import pandas as pd \n",
    "import sklearn as sk \n",
    "from sklearn.preprocessing import LabelEncoder\n",
    "from itertools import combinations\n",
    "from sklearn.model_selection import train_test_split\n",
    "from sklearn.ensemble import RandomForestRegressor\n",
    "from sklearn.metrics import mean_squared_error"
   ]
  },
  {
   "cell_type": "markdown",
   "metadata": {},
   "source": [
    "## Chargement des données"
   ]
  },
  {
   "cell_type": "code",
   "execution_count": 5,
   "metadata": {},
   "outputs": [
    {
     "data": {
      "text/html": [
       "<div>\n",
       "<style scoped>\n",
       "    .dataframe tbody tr th:only-of-type {\n",
       "        vertical-align: middle;\n",
       "    }\n",
       "\n",
       "    .dataframe tbody tr th {\n",
       "        vertical-align: top;\n",
       "    }\n",
       "\n",
       "    .dataframe thead th {\n",
       "        text-align: right;\n",
       "    }\n",
       "</style>\n",
       "<table border=\"1\" class=\"dataframe\">\n",
       "  <thead>\n",
       "    <tr style=\"text-align: right;\">\n",
       "      <th></th>\n",
       "      <th>patient_id</th>\n",
       "      <th>cohort</th>\n",
       "      <th>sexM</th>\n",
       "      <th>gene</th>\n",
       "      <th>age_at_diagnosis</th>\n",
       "      <th>age</th>\n",
       "      <th>ledd</th>\n",
       "      <th>time_since_intake_on</th>\n",
       "      <th>time_since_intake_off</th>\n",
       "      <th>on</th>\n",
       "      <th>off</th>\n",
       "    </tr>\n",
       "  </thead>\n",
       "  <tbody>\n",
       "    <tr>\n",
       "      <th>0</th>\n",
       "      <td>3332</td>\n",
       "      <td>0</td>\n",
       "      <td>0</td>\n",
       "      <td>1</td>\n",
       "      <td>48.5</td>\n",
       "      <td>52.1</td>\n",
       "      <td>607.0</td>\n",
       "      <td>1.9</td>\n",
       "      <td>14.779592</td>\n",
       "      <td>7.0</td>\n",
       "      <td>38.620296</td>\n",
       "    </tr>\n",
       "    <tr>\n",
       "      <th>1</th>\n",
       "      <td>3332</td>\n",
       "      <td>0</td>\n",
       "      <td>0</td>\n",
       "      <td>1</td>\n",
       "      <td>48.5</td>\n",
       "      <td>53.0</td>\n",
       "      <td>666.0</td>\n",
       "      <td>1.9</td>\n",
       "      <td>17.600000</td>\n",
       "      <td>12.0</td>\n",
       "      <td>44.000000</td>\n",
       "    </tr>\n",
       "    <tr>\n",
       "      <th>2</th>\n",
       "      <td>3332</td>\n",
       "      <td>0</td>\n",
       "      <td>0</td>\n",
       "      <td>1</td>\n",
       "      <td>48.5</td>\n",
       "      <td>53.9</td>\n",
       "      <td>717.0</td>\n",
       "      <td>1.2</td>\n",
       "      <td>14.878328</td>\n",
       "      <td>6.0</td>\n",
       "      <td>39.662327</td>\n",
       "    </tr>\n",
       "    <tr>\n",
       "      <th>3</th>\n",
       "      <td>3332</td>\n",
       "      <td>0</td>\n",
       "      <td>0</td>\n",
       "      <td>1</td>\n",
       "      <td>48.5</td>\n",
       "      <td>54.8</td>\n",
       "      <td>770.0</td>\n",
       "      <td>1.5</td>\n",
       "      <td>14.727947</td>\n",
       "      <td>11.0</td>\n",
       "      <td>40.183342</td>\n",
       "    </tr>\n",
       "    <tr>\n",
       "      <th>4</th>\n",
       "      <td>3332</td>\n",
       "      <td>0</td>\n",
       "      <td>0</td>\n",
       "      <td>1</td>\n",
       "      <td>48.5</td>\n",
       "      <td>56.9</td>\n",
       "      <td>885.0</td>\n",
       "      <td>0.3</td>\n",
       "      <td>14.326257</td>\n",
       "      <td>24.0</td>\n",
       "      <td>41.399048</td>\n",
       "    </tr>\n",
       "  </tbody>\n",
       "</table>\n",
       "</div>"
      ],
      "text/plain": [
       "   patient_id  cohort  sexM  gene  age_at_diagnosis   age   ledd  \\\n",
       "0        3332       0     0     1              48.5  52.1  607.0   \n",
       "1        3332       0     0     1              48.5  53.0  666.0   \n",
       "2        3332       0     0     1              48.5  53.9  717.0   \n",
       "3        3332       0     0     1              48.5  54.8  770.0   \n",
       "4        3332       0     0     1              48.5  56.9  885.0   \n",
       "\n",
       "   time_since_intake_on  time_since_intake_off    on        off  \n",
       "0                   1.9              14.779592   7.0  38.620296  \n",
       "1                   1.9              17.600000  12.0  44.000000  \n",
       "2                   1.2              14.878328   6.0  39.662327  \n",
       "3                   1.5              14.727947  11.0  40.183342  \n",
       "4                   0.3              14.326257  24.0  41.399048  "
      ]
     },
     "execution_count": 5,
     "metadata": {},
     "output_type": "execute_result"
    }
   ],
   "source": [
    "data = pd.read_csv('full_set_complete.csv').drop(columns=['Index'])\n",
    "data.head()"
   ]
  },
  {
   "cell_type": "code",
   "execution_count": 2,
   "metadata": {},
   "outputs": [],
   "source": [
    "# Chargement des données\n",
    "\n",
    "data = pd.read_csv('full_set_complete.csv').drop(columns=['Index'])\n",
    "Y_train= pd.read_csv('y_train_lXj6X5y.csv',index_col=0)\n",
    "X_train= pd.read_csv('X_train_6ZIKlTY.csv', index_col=0)\n",
    "X_test= pd.read_csv('X_test_oiZ2ukx.csv',index_col=0)\n",
    "X_test.index = X_test.index + X_train.shape[0]  # Décale les index de X_test"
   ]
  },
  {
   "cell_type": "markdown",
   "metadata": {},
   "source": [
    "## Feature engineering"
   ]
  },
  {
   "cell_type": "code",
   "execution_count": 3,
   "metadata": {},
   "outputs": [
    {
     "data": {
      "text/html": [
       "<div>\n",
       "<style scoped>\n",
       "    .dataframe tbody tr th:only-of-type {\n",
       "        vertical-align: middle;\n",
       "    }\n",
       "\n",
       "    .dataframe tbody tr th {\n",
       "        vertical-align: top;\n",
       "    }\n",
       "\n",
       "    .dataframe thead th {\n",
       "        text-align: right;\n",
       "    }\n",
       "</style>\n",
       "<table border=\"1\" class=\"dataframe\">\n",
       "  <thead>\n",
       "    <tr style=\"text-align: right;\">\n",
       "      <th></th>\n",
       "      <th>patient_id</th>\n",
       "      <th>cohort</th>\n",
       "      <th>sexM</th>\n",
       "      <th>gene</th>\n",
       "      <th>age_at_diagnosis</th>\n",
       "      <th>age</th>\n",
       "      <th>ledd</th>\n",
       "      <th>time_since_intake_on</th>\n",
       "      <th>time_since_intake_off</th>\n",
       "      <th>on</th>\n",
       "      <th>off</th>\n",
       "      <th>cohort_sexM_interaction</th>\n",
       "      <th>cohort_gene_interaction</th>\n",
       "      <th>sexM_gene_interaction</th>\n",
       "    </tr>\n",
       "  </thead>\n",
       "  <tbody>\n",
       "    <tr>\n",
       "      <th>0</th>\n",
       "      <td>3332</td>\n",
       "      <td>0</td>\n",
       "      <td>0</td>\n",
       "      <td>1</td>\n",
       "      <td>48.5</td>\n",
       "      <td>52.1</td>\n",
       "      <td>607.0</td>\n",
       "      <td>1.9</td>\n",
       "      <td>14.779592</td>\n",
       "      <td>7.0</td>\n",
       "      <td>38.620296</td>\n",
       "      <td>0</td>\n",
       "      <td>1</td>\n",
       "      <td>1</td>\n",
       "    </tr>\n",
       "    <tr>\n",
       "      <th>1</th>\n",
       "      <td>3332</td>\n",
       "      <td>0</td>\n",
       "      <td>0</td>\n",
       "      <td>1</td>\n",
       "      <td>48.5</td>\n",
       "      <td>53.0</td>\n",
       "      <td>666.0</td>\n",
       "      <td>1.9</td>\n",
       "      <td>17.600000</td>\n",
       "      <td>12.0</td>\n",
       "      <td>44.000000</td>\n",
       "      <td>0</td>\n",
       "      <td>1</td>\n",
       "      <td>1</td>\n",
       "    </tr>\n",
       "    <tr>\n",
       "      <th>2</th>\n",
       "      <td>3332</td>\n",
       "      <td>0</td>\n",
       "      <td>0</td>\n",
       "      <td>1</td>\n",
       "      <td>48.5</td>\n",
       "      <td>53.9</td>\n",
       "      <td>717.0</td>\n",
       "      <td>1.2</td>\n",
       "      <td>14.878328</td>\n",
       "      <td>6.0</td>\n",
       "      <td>39.662327</td>\n",
       "      <td>0</td>\n",
       "      <td>1</td>\n",
       "      <td>1</td>\n",
       "    </tr>\n",
       "  </tbody>\n",
       "</table>\n",
       "</div>"
      ],
      "text/plain": [
       "   patient_id  cohort  sexM  gene  age_at_diagnosis   age   ledd  \\\n",
       "0        3332       0     0     1              48.5  52.1  607.0   \n",
       "1        3332       0     0     1              48.5  53.0  666.0   \n",
       "2        3332       0     0     1              48.5  53.9  717.0   \n",
       "\n",
       "   time_since_intake_on  time_since_intake_off    on        off  \\\n",
       "0                   1.9              14.779592   7.0  38.620296   \n",
       "1                   1.9              17.600000  12.0  44.000000   \n",
       "2                   1.2              14.878328   6.0  39.662327   \n",
       "\n",
       "   cohort_sexM_interaction  cohort_gene_interaction  sexM_gene_interaction  \n",
       "0                        0                        1                      1  \n",
       "1                        0                        1                      1  \n",
       "2                        0                        1                      1  "
      ]
     },
     "execution_count": 3,
     "metadata": {},
     "output_type": "execute_result"
    }
   ],
   "source": [
    "# Catégorisation en entiers\n",
    "cat_features = ['cohort', 'sexM', 'gene']\n",
    "\n",
    "# Pairwise interactions categorielles\n",
    "for f1, f2 in combinations(cat_features, 2):\n",
    "    data[f\"{f1}_{f2}_interaction\"] = data[f1] * 10 + data[f2]  # ou data[f1].astype(str) + \"_\" + data[f2].astype(str)\n",
    "\n",
    "# Affichage du dataset transformé\n",
    "data.head(3)"
   ]
  },
  {
   "cell_type": "code",
   "execution_count": 4,
   "metadata": {},
   "outputs": [],
   "source": [
    "X_train_filled = data.loc[X_train.index]\n",
    "Y_train = Y_train\n",
    "\n",
    "# Pour la sélection de modèles\n",
    "X_train_train, X_valid, y_train_train, y_valid = train_test_split(X_train_filled, Y_train, test_size=0.2, random_state=42)\n",
    "\n",
    "# Pour la soumission\n",
    "X_test_full = data.loc[X_test.index]"
   ]
  },
  {
   "cell_type": "code",
   "execution_count": 5,
   "metadata": {},
   "outputs": [
    {
     "name": "stderr",
     "output_type": "stream",
     "text": [
      "c:\\Users\\soelm\\Documents\\04_Code\\MVA\\MVA_venv\\Lib\\site-packages\\sklearn\\base.py:1473: DataConversionWarning: A column-vector y was passed when a 1d array was expected. Please change the shape of y to (n_samples,), for example using ravel().\n",
      "  return fit_method(estimator, *args, **kwargs)\n"
     ]
    },
    {
     "name": "stdout",
     "output_type": "stream",
     "text": [
      "Mean Squared Error sur le set de validation : 45.45056385783653\n"
     ]
    }
   ],
   "source": [
    "model = RandomForestRegressor(n_estimators=100, random_state=42)\n",
    "model.fit(X_train_train, y_train_train)\n",
    "\n",
    "\n",
    "y_pred = model.predict(X_valid)\n",
    "mse = mean_squared_error(y_valid, y_pred)\n",
    "print(f\"Mean Squared Error sur le set de validation : {mse}\")"
   ]
  },
  {
   "cell_type": "code",
   "execution_count": 8,
   "metadata": {},
   "outputs": [
    {
     "name": "stderr",
     "output_type": "stream",
     "text": [
      "C:\\Users\\soelm\\AppData\\Local\\Temp\\ipykernel_141712\\701310133.py:16: FutureWarning: \n",
      "\n",
      "Passing `palette` without assigning `hue` is deprecated and will be removed in v0.14.0. Assign the `y` variable to `hue` and set `legend=False` for the same effect.\n",
      "\n",
      "  sns.barplot(x=importance_df['Importance'], y=importance_df['Feature'], palette='viridis')\n"
     ]
    },
    {
     "data": {
      "text/plain": [
       "Text(0, 0.5, 'Features')"
      ]
     },
     "execution_count": 8,
     "metadata": {},
     "output_type": "execute_result"
    },
    {
     "data": {
      "image/png": "[encoded data removed]",
      "text/plain": [
       "<Figure size 800x500 with 1 Axes>"
      ]
     },
     "metadata": {},
     "output_type": "display_data"
    }
   ],
   "source": [
    "import matplotlib.pyplot as plt\n",
    "import seaborn as sns\n",
    "\n",
    "# Extraire l'importance des features\n",
    "feature_importance = model.feature_importances_\n",
    "\n",
    "# Créer un DataFrame pour trier et visualiser\n",
    "importance_df = pd.DataFrame({'Feature': X_train_train.columns, 'Importance': feature_importance})\n",
    "importance_df = importance_df.sort_values(by='Importance', ascending=False)\n",
    "\n",
    "# Afficher les valeurs\n",
    "#print(importance_df)\n",
    "\n",
    "# Visualisation avec un barplot\n",
    "plt.figure(figsize=(8, 5))\n",
    "sns.barplot(x=importance_df['Importance'], y=importance_df['Feature'], palette='viridis')\n",
    "plt.xlabel('Importance')\n",
    "plt.ylabel('Features')\n"
   ]
  }
 ],
 "metadata": {
  "kernelspec": {
   "display_name": "MVA_venv",
   "language": "python",
   "name": "python3"
  },
  "language_info": {
   "codemirror_mode": {
    "name": "ipython",
    "version": 3
   },
   "file_extension": ".py",
   "mimetype": "text/x-python",
   "name": "python",
   "nbconvert_exporter": "python",
   "pygments_lexer": "ipython3",
   "version": "3.12.6"
  }
 },
 "nbformat": 4,
 "nbformat_minor": 2
}
