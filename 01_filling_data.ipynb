{
 "cells": [
  {
   "cell_type": "markdown",
   "metadata": {},
   "source": [
    "# Data"
   ]
  },
  {
   "cell_type": "code",
   "execution_count": 124,
   "metadata": {},
   "outputs": [],
   "source": [
    "import pandas as pd\n",
    "import numpy as np\n",
    "import matplotlib.pyplot as plt\n",
    "%matplotlib inline\n",
    "import seaborn as sns# Figure size\n",
    "from sklearn.model_selection import train_test_split\n",
    "from sklearn.metrics import mean_squared_error\n",
    "from sklearn.pipeline import Pipeline\n",
    "from sklearn.impute import SimpleImputer\n",
    "from sklearn.preprocessing import OneHotEncoder, StandardScaler\n",
    "from sklearn.compose import ColumnTransformer\n",
    "\n",
    "# Regressors from scikit-learn\n",
    "from sklearn.linear_model import LinearRegression\n",
    "from sklearn.tree import DecisionTreeRegressor\n",
    "from sklearn.ensemble import RandomForestRegressor, HistGradientBoostingRegressor\n",
    "from sklearn.neighbors import KNeighborsRegressor"
   ]
  },
  {
   "cell_type": "code",
   "execution_count": 125,
   "metadata": {},
   "outputs": [
    {
     "name": "stdout",
     "output_type": "stream",
     "text": [
      "79275 55603 55603 23672\n"
     ]
    },
    {
     "data": {
      "text/html": [
       "<div>\n",
       "<style scoped>\n",
       "    .dataframe tbody tr th:only-of-type {\n",
       "        vertical-align: middle;\n",
       "    }\n",
       "\n",
       "    .dataframe tbody tr th {\n",
       "        vertical-align: top;\n",
       "    }\n",
       "\n",
       "    .dataframe thead th {\n",
       "        text-align: right;\n",
       "    }\n",
       "</style>\n",
       "<table border=\"1\" class=\"dataframe\">\n",
       "  <thead>\n",
       "    <tr style=\"text-align: right;\">\n",
       "      <th></th>\n",
       "      <th>patient_id</th>\n",
       "      <th>cohort</th>\n",
       "      <th>sexM</th>\n",
       "      <th>gene</th>\n",
       "      <th>age_at_diagnosis</th>\n",
       "      <th>age</th>\n",
       "      <th>ledd</th>\n",
       "      <th>time_since_intake_on</th>\n",
       "      <th>time_since_intake_off</th>\n",
       "      <th>on</th>\n",
       "      <th>off</th>\n",
       "    </tr>\n",
       "    <tr>\n",
       "      <th>Index</th>\n",
       "      <th></th>\n",
       "      <th></th>\n",
       "      <th></th>\n",
       "      <th></th>\n",
       "      <th></th>\n",
       "      <th></th>\n",
       "      <th></th>\n",
       "      <th></th>\n",
       "      <th></th>\n",
       "      <th></th>\n",
       "      <th></th>\n",
       "    </tr>\n",
       "  </thead>\n",
       "  <tbody>\n",
       "    <tr>\n",
       "      <th>0</th>\n",
       "      <td>IPLP5212</td>\n",
       "      <td>A</td>\n",
       "      <td>0</td>\n",
       "      <td>LRRK2+</td>\n",
       "      <td>48.5</td>\n",
       "      <td>52.1</td>\n",
       "      <td>607.0</td>\n",
       "      <td>1.9</td>\n",
       "      <td>NaN</td>\n",
       "      <td>7.0</td>\n",
       "      <td>NaN</td>\n",
       "    </tr>\n",
       "    <tr>\n",
       "      <th>1</th>\n",
       "      <td>IPLP5212</td>\n",
       "      <td>A</td>\n",
       "      <td>0</td>\n",
       "      <td>LRRK2+</td>\n",
       "      <td>48.5</td>\n",
       "      <td>53.0</td>\n",
       "      <td>666.0</td>\n",
       "      <td>1.9</td>\n",
       "      <td>17.6</td>\n",
       "      <td>12.0</td>\n",
       "      <td>44.0</td>\n",
       "    </tr>\n",
       "    <tr>\n",
       "      <th>2</th>\n",
       "      <td>IPLP5212</td>\n",
       "      <td>A</td>\n",
       "      <td>0</td>\n",
       "      <td>LRRK2+</td>\n",
       "      <td>48.5</td>\n",
       "      <td>53.9</td>\n",
       "      <td>717.0</td>\n",
       "      <td>1.2</td>\n",
       "      <td>NaN</td>\n",
       "      <td>6.0</td>\n",
       "      <td>NaN</td>\n",
       "    </tr>\n",
       "  </tbody>\n",
       "</table>\n",
       "</div>"
      ],
      "text/plain": [
       "      patient_id cohort  sexM    gene  age_at_diagnosis   age   ledd  \\\n",
       "Index                                                                  \n",
       "0       IPLP5212      A     0  LRRK2+              48.5  52.1  607.0   \n",
       "1       IPLP5212      A     0  LRRK2+              48.5  53.0  666.0   \n",
       "2       IPLP5212      A     0  LRRK2+              48.5  53.9  717.0   \n",
       "\n",
       "       time_since_intake_on  time_since_intake_off    on   off  \n",
       "Index                                                           \n",
       "0                       1.9                    NaN   7.0   NaN  \n",
       "1                       1.9                   17.6  12.0  44.0  \n",
       "2                       1.2                    NaN   6.0   NaN  "
      ]
     },
     "execution_count": 125,
     "metadata": {},
     "output_type": "execute_result"
    }
   ],
   "source": [
    "X_train= pd.read_csv('X_train_6ZIKlTY.csv', index_col=0)\n",
    "Y_train= pd.read_csv('Y_train.csv',index_col=0)\n",
    "X_test= pd.read_csv('X_test_oiZ2ukx.csv',index_col=0)\n",
    "X_test = X_test.drop(columns=['time_since_diagnosis'])\n",
    "\n",
    "X_test.index = X_test.index + X_train.shape[0]  # Décale les index de X_test\n",
    "data = pd.concat([X_train, X_test], axis=0)\n",
    "\n",
    "print(len(data), len(X_train), len(Y_train), len(X_test))\n",
    "\n",
    "assert (data.loc[X_train.index].index == Y_train.index).all(), \"⚠️ Mauvais alignement entre X_train_processed et Y_train !\"\n",
    "\n",
    "data.head(3)"
   ]
  },
  {
   "cell_type": "markdown",
   "metadata": {},
   "source": [
    "Données démographiques du patient : Âge, sexe et âge au moment du diagnostic (symptômes moteurs).\n",
    "\n",
    "Cohore: cohorte désigne un groupe de patients atteints de la maladie de Parkinson partageant des caractéristiques ou conditions communes et observés sur une période définie afin d’étudier la progression de la maladie et les résultats des traitements.\n",
    "\n",
    "Informations génétiques : Marqueurs génétiques pertinents.\n",
    "\n",
    "ledd = Informations sur les médicaments : Posologie (en dose quotidienne équivalente en lévodopa).\n",
    "\n",
    "Scores Moteur MDS-UPDRS : Scores ON et OFF, avec le délai indiqué depuis la dernière prise de médicament.\n",
    "\n",
    "Dans le test, time_since_diagnosis est aussi dispo"
   ]
  },
  {
   "cell_type": "markdown",
   "metadata": {},
   "source": [
    "## Statistiques"
   ]
  },
  {
   "cell_type": "code",
   "execution_count": 126,
   "metadata": {},
   "outputs": [
    {
     "name": "stdout",
     "output_type": "stream",
     "text": [
      "|FULL SET MISSING VALUES (%):|\n",
      "patient_id                0.000000\n",
      "cohort                    0.000000\n",
      "sexM                      0.000000\n",
      "gene                     32.445285\n",
      "age_at_diagnosis          3.569852\n",
      "age                       0.000000\n",
      "ledd                     37.159256\n",
      "time_since_intake_on     46.844529\n",
      "time_since_intake_off    78.800378\n",
      "on                       30.177231\n",
      "off                      41.850520\n",
      "dtype: float64\n",
      "\n",
      "|FULL SET UNIQUE VALUES-\n",
      "patient_id               9959\n",
      "cohort                      2\n",
      "sexM                        2\n",
      "gene                        4\n",
      "age_at_diagnosis          594\n",
      "age                      1194\n",
      "ledd                     1414\n",
      "time_since_intake_on       65\n",
      "time_since_intake_off     181\n",
      "on                         83\n",
      "off                       102\n",
      "dtype: int64\n"
     ]
    }
   ],
   "source": [
    "print('|FULL SET MISSING VALUES (%):|')\n",
    "print(data.isna().sum()*100/len(data))\n",
    "print(\"\\n|FULL SET UNIQUE VALUES-\")\n",
    "print(data.nunique())\n",
    "#print(\"\\n|FULL SET STATS|\")\n",
    "#print(data.describe())"
   ]
  },
  {
   "cell_type": "code",
   "execution_count": 127,
   "metadata": {},
   "outputs": [
    {
     "name": "stdout",
     "output_type": "stream",
     "text": [
      "gene\n",
      "No Mutation    25293\n",
      "LRRK2+         13011\n",
      "GBA+           11795\n",
      "OTHER+          3455\n",
      "Name: count, dtype: int64\n"
     ]
    }
   ],
   "source": [
    "gene_counts = data['gene'].value_counts()\n",
    "print(gene_counts)"
   ]
  },
  {
   "cell_type": "markdown",
   "metadata": {},
   "source": [
    "## Catégorisation en entiers"
   ]
  },
  {
   "cell_type": "code",
   "execution_count": 128,
   "metadata": {},
   "outputs": [
    {
     "name": "stdout",
     "output_type": "stream",
     "text": [
      "patient_id                   0\n",
      "cohort                       0\n",
      "sexM                         0\n",
      "gene                     25721\n",
      "age_at_diagnosis          2830\n",
      "age                          0\n",
      "ledd                     29458\n",
      "time_since_intake_on     37136\n",
      "time_since_intake_off    62469\n",
      "on                       23923\n",
      "off                      33177\n",
      "dtype: int64\n"
     ]
    },
    {
     "data": {
      "text/html": [
       "<div>\n",
       "<style scoped>\n",
       "    .dataframe tbody tr th:only-of-type {\n",
       "        vertical-align: middle;\n",
       "    }\n",
       "\n",
       "    .dataframe tbody tr th {\n",
       "        vertical-align: top;\n",
       "    }\n",
       "\n",
       "    .dataframe thead th {\n",
       "        text-align: right;\n",
       "    }\n",
       "</style>\n",
       "<table border=\"1\" class=\"dataframe\">\n",
       "  <thead>\n",
       "    <tr style=\"text-align: right;\">\n",
       "      <th></th>\n",
       "      <th>patient_id</th>\n",
       "      <th>cohort</th>\n",
       "      <th>sexM</th>\n",
       "      <th>gene</th>\n",
       "      <th>age_at_diagnosis</th>\n",
       "      <th>age</th>\n",
       "      <th>ledd</th>\n",
       "      <th>time_since_intake_on</th>\n",
       "      <th>time_since_intake_off</th>\n",
       "      <th>on</th>\n",
       "      <th>off</th>\n",
       "    </tr>\n",
       "    <tr>\n",
       "      <th>Index</th>\n",
       "      <th></th>\n",
       "      <th></th>\n",
       "      <th></th>\n",
       "      <th></th>\n",
       "      <th></th>\n",
       "      <th></th>\n",
       "      <th></th>\n",
       "      <th></th>\n",
       "      <th></th>\n",
       "      <th></th>\n",
       "      <th></th>\n",
       "    </tr>\n",
       "  </thead>\n",
       "  <tbody>\n",
       "    <tr>\n",
       "      <th>0</th>\n",
       "      <td>3332</td>\n",
       "      <td>0</td>\n",
       "      <td>0</td>\n",
       "      <td>1</td>\n",
       "      <td>48.5</td>\n",
       "      <td>52.099998</td>\n",
       "      <td>607.0</td>\n",
       "      <td>1.9</td>\n",
       "      <td>&lt;NA&gt;</td>\n",
       "      <td>7.0</td>\n",
       "      <td>&lt;NA&gt;</td>\n",
       "    </tr>\n",
       "    <tr>\n",
       "      <th>1</th>\n",
       "      <td>3332</td>\n",
       "      <td>0</td>\n",
       "      <td>0</td>\n",
       "      <td>1</td>\n",
       "      <td>48.5</td>\n",
       "      <td>53.0</td>\n",
       "      <td>666.0</td>\n",
       "      <td>1.9</td>\n",
       "      <td>17.6</td>\n",
       "      <td>12.0</td>\n",
       "      <td>44.0</td>\n",
       "    </tr>\n",
       "    <tr>\n",
       "      <th>2</th>\n",
       "      <td>3332</td>\n",
       "      <td>0</td>\n",
       "      <td>0</td>\n",
       "      <td>1</td>\n",
       "      <td>48.5</td>\n",
       "      <td>53.900002</td>\n",
       "      <td>717.0</td>\n",
       "      <td>1.2</td>\n",
       "      <td>&lt;NA&gt;</td>\n",
       "      <td>6.0</td>\n",
       "      <td>&lt;NA&gt;</td>\n",
       "    </tr>\n",
       "  </tbody>\n",
       "</table>\n",
       "</div>"
      ],
      "text/plain": [
       "       patient_id  cohort  sexM  gene  age_at_diagnosis        age   ledd  \\\n",
       "Index                                                                       \n",
       "0            3332       0     0     1              48.5  52.099998  607.0   \n",
       "1            3332       0     0     1              48.5       53.0  666.0   \n",
       "2            3332       0     0     1              48.5  53.900002  717.0   \n",
       "\n",
       "       time_since_intake_on  time_since_intake_off    on   off  \n",
       "Index                                                           \n",
       "0                       1.9                   <NA>   7.0  <NA>  \n",
       "1                       1.9                   17.6  12.0  44.0  \n",
       "2                       1.2                   <NA>   6.0  <NA>  "
      ]
     },
     "execution_count": 128,
     "metadata": {},
     "output_type": "execute_result"
    }
   ],
   "source": [
    "categorical_columns = ['patient_id', 'cohort', 'gene']\n",
    "\n",
    "# Encodage des colonnes catégorielles\n",
    "for col in categorical_columns:\n",
    "    data[col] = pd.Categorical(data[col]).codes\n",
    "\n",
    "data['gene'] = data['gene'].replace(-1, pd.NA)\n",
    "\n",
    "for col in ['patient_id', 'cohort', 'sexM', 'gene']:\n",
    "    data[col] = data[col].astype('Int16')\n",
    "for col in ['age_at_diagnosis', 'age', 'ledd', 'time_since_intake_on', 'time_since_intake_off', 'on', 'off']:\n",
    "    data[col] = data[col].astype('Float32')\n",
    "\n",
    "assert (data.loc[X_train.index].index == Y_train.index).all(), \"⚠️ Mauvais alignement entre X_train_processed et Y_train !\"\n",
    "print(data.isna().sum())\n",
    "data.head(3)"
   ]
  },
  {
   "cell_type": "markdown",
   "metadata": {},
   "source": [
    "## Remplissage des données manquantes\n",
    "\n",
    "Fonctions utilitaires : \n",
    "- ridge_over_datas, permet une ride par patient\n",
    "- globbal filling permet un modèle global\n",
    "\n",
    "Ces fonctions ne modifient pas les index"
   ]
  },
  {
   "cell_type": "code",
   "execution_count": null,
   "metadata": {},
   "outputs": [],
   "source": [
    "import numpy as np\n",
    "import pandas as pd\n",
    "from sklearn.linear_model import Ridge\n",
    "\n",
    "def ridge_over_datas(data, group_key='patient_id', y='ledd', x='age', clip_min=1e-6):\n",
    "    ''' \n",
    "    Effectue une régression Ridge sur data pour prédire y si min 2 données par patient.\n",
    "    Les prédictions négatives sont remplacées par clip_min.\n",
    "    (Cette fonction est destinée aux tâches de régression.)\n",
    "    '''\n",
    "    def impute_ridge(group):\n",
    "        if group[y].notna().sum() >= 3:\n",
    "            valid = group[group[y].notna()]\n",
    "            X_train = valid[x].values.reshape(-1, 1)\n",
    "            y_train = valid[y].values\n",
    "\n",
    "            ridge = Ridge(alpha=1.0)\n",
    "            ridge.fit(X_train, y_train)\n",
    "\n",
    "            missing_mask = group[y].isna()\n",
    "            if missing_mask.any():\n",
    "                X_missing = group.loc[missing_mask, x].values.reshape(-1, 1)\n",
    "                preds = ridge.predict(X_missing)\n",
    "                preds = np.clip(preds, clip_min, None)\n",
    "                group.loc[missing_mask, y] = preds\n",
    "        return group\n",
    "\n",
    "    data = data.groupby(group_key, group_keys=False).apply(impute_ridge)\n",
    "    return data\n",
    "\n",
    "from sklearn.ensemble import HistGradientBoostingClassifier, HistGradientBoostingRegressor\n",
    "from xgboost import XGBRegressor\n",
    "\n",
    "def global_filling(data, target='ledd', features=None, model='classifier', clip_min=1e-6):\n",
    "    ''' \n",
    "    Remplit les valeurs manquantes de target dans data.\n",
    "    Pour les modèles de régression (model != 'classifier'), \n",
    "    les prédictions négatives sont remplacées par clip_min.\n",
    "    Pour les classificateurs, aucune modification des prédictions n'est faite.\n",
    "    '''\n",
    "    if features is None:\n",
    "        features = []\n",
    "\n",
    "    df_train = data[data[target].notna()].copy()\n",
    "    df_missing = data[data[target].isna()].copy()\n",
    "\n",
    "    X_train_model = df_train[features]\n",
    "    y_train = df_train[target]\n",
    "    X_missing = df_missing[features]\n",
    "\n",
    "    if model == 'classifier':\n",
    "        model_instance = HistGradientBoostingClassifier(random_state=42)\n",
    "    elif model == 'regressor':\n",
    "        model_instance = HistGradientBoostingRegressor(random_state=42)\n",
    "    elif model == 'ridge':\n",
    "        model_instance = Ridge(alpha=1.0)\n",
    "    elif model == 'xgboost':\n",
    "        model_instance = XGBRegressor(random_state=42, use_label_encoder=False, eval_metric='rmse')\n",
    "    else:\n",
    "        raise ValueError(\"Modèle non reconnu: utilisez 'classifier', 'regressor', 'ridge' ou 'xgboost'.\")\n",
    "\n",
    "    model_instance.fit(X_train_model, y_train)\n",
    "    preds = model_instance.predict(X_missing)\n",
    "\n",
    "    # Appliquer le clipping seulement si le modèle est de régression (c'est-à-dire, pas un classificateur)\n",
    "    if model != 'classifier':\n",
    "        preds = np.clip(preds, clip_min, None)\n",
    "\n",
    "    data.loc[data[target].isna(), target] = preds\n",
    "    return data"
   ]
  },
  {
   "cell_type": "markdown",
   "metadata": {},
   "source": [
    "### Remplissage de 'gene'"
   ]
  },
  {
   "cell_type": "code",
   "execution_count": 130,
   "metadata": {},
   "outputs": [
    {
     "name": "stdout",
     "output_type": "stream",
     "text": [
      "0\n"
     ]
    }
   ],
   "source": [
    "data = global_filling(data, target='gene', features=['patient_id', 'cohort', 'sexM', 'age_at_diagnosis', 'age'], model='classifier')\n",
    "print(data['gene'].isna().sum())"
   ]
  },
  {
   "cell_type": "markdown",
   "metadata": {},
   "source": [
    "### Remplissage de 'ledd'\n",
    "Pour chaque patient, regression ridge quand min 2 valeurs"
   ]
  },
  {
   "cell_type": "code",
   "execution_count": 131,
   "metadata": {},
   "outputs": [
    {
     "name": "stderr",
     "output_type": "stream",
     "text": [
      "/var/folders/zn/74t7wv5n5r593c2rckpn_pbr0000gn/T/ipykernel_93707/1325853278.py:28: DeprecationWarning: DataFrameGroupBy.apply operated on the grouping columns. This behavior is deprecated, and in a future version of pandas the grouping columns will be excluded from the operation. Either pass `include_groups=False` to exclude the groupings or explicitly select the grouping columns after groupby to silence this warning.\n",
      "  data = data.groupby(group_key, group_keys=False).apply(impute_ridge)\n"
     ]
    },
    {
     "name": "stdout",
     "output_type": "stream",
     "text": [
      "0\n"
     ]
    }
   ],
   "source": [
    "# Appliquer la régression Ridge pour les patients avec au moins 2 valeurs valides\n",
    "data = ridge_over_datas(data, group_key='patient_id', y='ledd', x='age')\n",
    "\n",
    "# Appliquer le modèle global pour les valeurs manquantes restantes\n",
    "data = global_filling(data, target='ledd', features=['cohort', 'sexM', 'gene', 'age_at_diagnosis', 'age', 'on', 'off'], model='regressor')\n",
    "\n",
    "print(data['ledd'].isna().sum())"
   ]
  },
  {
   "cell_type": "markdown",
   "metadata": {},
   "source": [
    "### Remplissage de 'off'"
   ]
  },
  {
   "cell_type": "code",
   "execution_count": 132,
   "metadata": {},
   "outputs": [
    {
     "name": "stderr",
     "output_type": "stream",
     "text": [
      "/var/folders/zn/74t7wv5n5r593c2rckpn_pbr0000gn/T/ipykernel_93707/1325853278.py:28: DeprecationWarning: DataFrameGroupBy.apply operated on the grouping columns. This behavior is deprecated, and in a future version of pandas the grouping columns will be excluded from the operation. Either pass `include_groups=False` to exclude the groupings or explicitly select the grouping columns after groupby to silence this warning.\n",
      "  data = data.groupby(group_key, group_keys=False).apply(impute_ridge)\n"
     ]
    },
    {
     "name": "stdout",
     "output_type": "stream",
     "text": [
      "0\n"
     ]
    }
   ],
   "source": [
    "# Appliquer la régression Ridge pour les patients avec au moins 2 valeurs valides\n",
    "data = ridge_over_datas(data, group_key='patient_id', y='off', x='age')\n",
    "\n",
    "# Appliquer le modèle global pour les valeurs manquantes restantes\n",
    "features = ['cohort', 'sexM', 'gene', 'age_at_diagnosis', 'age', 'ledd', 'time_since_intake_on', 'time_since_intake_off', 'on']\n",
    "data = global_filling(data, target='off', features=features, model='regressor')\n",
    "\n",
    "print(data['off'].isna().sum())"
   ]
  },
  {
   "cell_type": "markdown",
   "metadata": {},
   "source": [
    "### Remplissage de 'on'"
   ]
  },
  {
   "cell_type": "code",
   "execution_count": 133,
   "metadata": {},
   "outputs": [
    {
     "name": "stderr",
     "output_type": "stream",
     "text": [
      "/var/folders/zn/74t7wv5n5r593c2rckpn_pbr0000gn/T/ipykernel_93707/1325853278.py:28: DeprecationWarning: DataFrameGroupBy.apply operated on the grouping columns. This behavior is deprecated, and in a future version of pandas the grouping columns will be excluded from the operation. Either pass `include_groups=False` to exclude the groupings or explicitly select the grouping columns after groupby to silence this warning.\n",
      "  data = data.groupby(group_key, group_keys=False).apply(impute_ridge)\n"
     ]
    },
    {
     "name": "stdout",
     "output_type": "stream",
     "text": [
      "0\n"
     ]
    }
   ],
   "source": [
    "target='on'\n",
    "features = ['cohort', 'sexM', 'gene', 'age_at_diagnosis', 'age', 'ledd', 'time_since_intake_on', 'time_since_intake_off', 'off']\n",
    "\n",
    "# Appliquer la régression Ridge pour les patients avec au moins 2 valeurs valides\n",
    "data = ridge_over_datas(data, group_key='patient_id', y=target, x='age')\n",
    "\n",
    "# Appliquer le modèle global pour les valeurs manquantes restantes\n",
    "data = global_filling(data, target=target, features=features, model='regressor')\n",
    "\n",
    "print(data[target].isna().sum())"
   ]
  },
  {
   "cell_type": "markdown",
   "metadata": {},
   "source": [
    "### Remplissage de 'intake on' and 'intake off' (super importaant)"
   ]
  },
  {
   "cell_type": "code",
   "execution_count": 134,
   "metadata": {},
   "outputs": [
    {
     "data": {
      "text/plain": [
       "patient_id                   0\n",
       "cohort                       0\n",
       "sexM                         0\n",
       "gene                         0\n",
       "age_at_diagnosis          2830\n",
       "age                          0\n",
       "ledd                         0\n",
       "time_since_intake_on     37136\n",
       "time_since_intake_off    62469\n",
       "on                           0\n",
       "off                          0\n",
       "dtype: int64"
      ]
     },
     "execution_count": 134,
     "metadata": {},
     "output_type": "execute_result"
    }
   ],
   "source": [
    "data.isna().sum()"
   ]
  },
  {
   "cell_type": "code",
   "execution_count": 135,
   "metadata": {},
   "outputs": [
    {
     "data": {
      "text/plain": [
       "0"
      ]
     },
     "execution_count": 135,
     "metadata": {},
     "output_type": "execute_result"
    }
   ],
   "source": [
    "features = ['cohort', 'sexM', 'gene', 'age', 'ledd', 'on', 'off'] # j'ai réduit le nombre de features pour ne prendre que celles sans nan donc j'ai notamment enlevé time_since_intake_on\n",
    "target = 'time_since_intake_off'\n",
    "\n",
    "# Appliquer la régression Ridge pour les patients avec au moins 2 valeurs valides\n",
    "data = global_filling(data, target=target, features=features, model='ridge')\n",
    "\n",
    "data[target].isna().sum()"
   ]
  },
  {
   "cell_type": "code",
   "execution_count": 136,
   "metadata": {},
   "outputs": [
    {
     "data": {
      "text/plain": [
       "0"
      ]
     },
     "execution_count": 136,
     "metadata": {},
     "output_type": "execute_result"
    }
   ],
   "source": [
    "features = ['cohort', 'sexM', 'gene', 'age', 'ledd', 'on', 'off', 'time_since_intake_off'] \n",
    "target = 'time_since_intake_on'\n",
    "\n",
    "# Appliquer la régression Ridge pour les patients avec au moins 2 valeurs valides\n",
    "data = global_filling(data, target=target, features=features, model='ridge')\n",
    "\n",
    "data[target].isna().sum()"
   ]
  },
  {
   "cell_type": "markdown",
   "metadata": {},
   "source": [
    "### Remplisage 'age at diagnosis'"
   ]
  },
  {
   "cell_type": "code",
   "execution_count": 137,
   "metadata": {},
   "outputs": [
    {
     "name": "stderr",
     "output_type": "stream",
     "text": [
      "/Users/vakili/Library/Python/3.9/lib/python/site-packages/xgboost/core.py:158: UserWarning: [12:52:35] WARNING: /Users/runner/work/xgboost/xgboost/src/learner.cc:740: \n",
      "Parameters: { \"use_label_encoder\" } are not used.\n",
      "\n",
      "  warnings.warn(smsg, UserWarning)\n"
     ]
    },
    {
     "data": {
      "text/plain": [
       "0"
      ]
     },
     "execution_count": 137,
     "metadata": {},
     "output_type": "execute_result"
    }
   ],
   "source": [
    "features = ['cohort', 'gene', 'sexM', 'age', 'ledd', 'on', 'off',\n",
    "            'time_since_intake_on', 'time_since_intake_off']\n",
    "target = 'age_at_diagnosis'\n",
    "\n",
    "\n",
    "data = global_filling(data, target=target, features=features, model='xgboost')\n",
    "\n",
    "data[target].isna().sum()"
   ]
  },
  {
   "cell_type": "code",
   "execution_count": 138,
   "metadata": {},
   "outputs": [
    {
     "name": "stdout",
     "output_type": "stream",
     "text": [
      "FULL SET MISSING VALUES (%):\n",
      "patient_id               0.0\n",
      "cohort                   0.0\n",
      "sexM                     0.0\n",
      "gene                     0.0\n",
      "age_at_diagnosis         0.0\n",
      "age                      0.0\n",
      "ledd                     0.0\n",
      "time_since_intake_on     0.0\n",
      "time_since_intake_off    0.0\n",
      "on                       0.0\n",
      "off                      0.0\n",
      "dtype: float64\n",
      "\n"
     ]
    }
   ],
   "source": [
    "print('FULL SET MISSING VALUES (%):')\n",
    "print(data.isna().sum()*100/len(data))\n",
    "print('')"
   ]
  },
  {
   "cell_type": "markdown",
   "metadata": {},
   "source": [
    "## Test rapide"
   ]
  },
  {
   "cell_type": "code",
   "execution_count": 139,
   "metadata": {},
   "outputs": [
    {
     "name": "stderr",
     "output_type": "stream",
     "text": [
      "/Users/vakili/Library/Python/3.9/lib/python/site-packages/sklearn/base.py:1389: DataConversionWarning: A column-vector y was passed when a 1d array was expected. Please change the shape of y to (n_samples,), for example using ravel().\n",
      "  return fit_method(estimator, *args, **kwargs)\n"
     ]
    },
    {
     "name": "stdout",
     "output_type": "stream",
     "text": [
      "Mean Squared Error sur le set de validation : 45.250500816833025\n"
     ]
    }
   ],
   "source": [
    "from sklearn.model_selection import train_test_split\n",
    "from sklearn.ensemble import RandomForestRegressor\n",
    "from sklearn.metrics import mean_squared_error\n",
    "\n",
    "assert (data.loc[X_train.index].index == Y_train.index).all(), \"⚠️ Mauvais alignement entre X_train_processed et Y_train !\"\n",
    "\n",
    "X_train_processed = data.loc[X_train.index]\n",
    "Y_train = Y_train\n",
    "\n",
    "X_train_train, X_valid, y_train_train, y_valid = train_test_split(X_train_processed, Y_train, test_size=0.2, random_state=42)\n",
    "\n",
    "model = RandomForestRegressor(n_estimators=100, random_state=42)\n",
    "model.fit(X_train_train, y_train_train)\n",
    "\n",
    "\n",
    "y_pred = model.predict(X_valid)\n",
    "mse = mean_squared_error(y_valid, y_pred)\n",
    "print(f\"Mean Squared Error sur le set de validation : {mse}\")"
   ]
  },
  {
   "cell_type": "markdown",
   "metadata": {},
   "source": [
    "## Sauvegarde du full set"
   ]
  },
  {
   "cell_type": "code",
   "execution_count": 140,
   "metadata": {},
   "outputs": [],
   "source": [
    "X_test_processed = data.loc[X_test.index]\n",
    "X_test_processed.reset_index()\n",
    "X_train_processed = data.loc[X_train.index]\n",
    "data.to_csv('full_set_complete.csv')\n",
    "X_train_processed.to_csv('X_train_fill_v0.csv')\n",
    "X_test_processed.to_csv('X_test_fill_v0.csv')\n"
   ]
  },
  {
   "cell_type": "code",
   "execution_count": 141,
   "metadata": {},
   "outputs": [
    {
     "data": {
      "text/html": [
       "<div>\n",
       "<style scoped>\n",
       "    .dataframe tbody tr th:only-of-type {\n",
       "        vertical-align: middle;\n",
       "    }\n",
       "\n",
       "    .dataframe tbody tr th {\n",
       "        vertical-align: top;\n",
       "    }\n",
       "\n",
       "    .dataframe thead th {\n",
       "        text-align: right;\n",
       "    }\n",
       "</style>\n",
       "<table border=\"1\" class=\"dataframe\">\n",
       "  <thead>\n",
       "    <tr style=\"text-align: right;\">\n",
       "      <th></th>\n",
       "      <th>patient_id</th>\n",
       "      <th>cohort</th>\n",
       "      <th>sexM</th>\n",
       "      <th>gene</th>\n",
       "      <th>age_at_diagnosis</th>\n",
       "      <th>age</th>\n",
       "      <th>ledd</th>\n",
       "      <th>time_since_intake_on</th>\n",
       "      <th>time_since_intake_off</th>\n",
       "      <th>on</th>\n",
       "      <th>off</th>\n",
       "    </tr>\n",
       "    <tr>\n",
       "      <th>Index</th>\n",
       "      <th></th>\n",
       "      <th></th>\n",
       "      <th></th>\n",
       "      <th></th>\n",
       "      <th></th>\n",
       "      <th></th>\n",
       "      <th></th>\n",
       "      <th></th>\n",
       "      <th></th>\n",
       "      <th></th>\n",
       "      <th></th>\n",
       "    </tr>\n",
       "  </thead>\n",
       "  <tbody>\n",
       "    <tr>\n",
       "      <th>0</th>\n",
       "      <td>3332</td>\n",
       "      <td>0</td>\n",
       "      <td>0</td>\n",
       "      <td>1</td>\n",
       "      <td>48.5</td>\n",
       "      <td>52.099998</td>\n",
       "      <td>607.0</td>\n",
       "      <td>1.9</td>\n",
       "      <td>14.779591</td>\n",
       "      <td>7.0</td>\n",
       "      <td>38.620296</td>\n",
       "    </tr>\n",
       "    <tr>\n",
       "      <th>1</th>\n",
       "      <td>3332</td>\n",
       "      <td>0</td>\n",
       "      <td>0</td>\n",
       "      <td>1</td>\n",
       "      <td>48.5</td>\n",
       "      <td>53.0</td>\n",
       "      <td>666.0</td>\n",
       "      <td>1.9</td>\n",
       "      <td>17.6</td>\n",
       "      <td>12.0</td>\n",
       "      <td>44.0</td>\n",
       "    </tr>\n",
       "    <tr>\n",
       "      <th>2</th>\n",
       "      <td>3332</td>\n",
       "      <td>0</td>\n",
       "      <td>0</td>\n",
       "      <td>1</td>\n",
       "      <td>48.5</td>\n",
       "      <td>53.900002</td>\n",
       "      <td>717.0</td>\n",
       "      <td>1.2</td>\n",
       "      <td>14.87831</td>\n",
       "      <td>6.0</td>\n",
       "      <td>39.662327</td>\n",
       "    </tr>\n",
       "    <tr>\n",
       "      <th>3</th>\n",
       "      <td>3332</td>\n",
       "      <td>0</td>\n",
       "      <td>0</td>\n",
       "      <td>1</td>\n",
       "      <td>48.5</td>\n",
       "      <td>54.799999</td>\n",
       "      <td>770.0</td>\n",
       "      <td>1.5</td>\n",
       "      <td>14.727922</td>\n",
       "      <td>11.0</td>\n",
       "      <td>40.183342</td>\n",
       "    </tr>\n",
       "    <tr>\n",
       "      <th>4</th>\n",
       "      <td>3332</td>\n",
       "      <td>0</td>\n",
       "      <td>0</td>\n",
       "      <td>1</td>\n",
       "      <td>48.5</td>\n",
       "      <td>56.900002</td>\n",
       "      <td>885.0</td>\n",
       "      <td>0.3</td>\n",
       "      <td>14.326217</td>\n",
       "      <td>24.0</td>\n",
       "      <td>41.399048</td>\n",
       "    </tr>\n",
       "  </tbody>\n",
       "</table>\n",
       "</div>"
      ],
      "text/plain": [
       "       patient_id  cohort  sexM  gene  age_at_diagnosis        age   ledd  \\\n",
       "Index                                                                       \n",
       "0            3332       0     0     1              48.5  52.099998  607.0   \n",
       "1            3332       0     0     1              48.5       53.0  666.0   \n",
       "2            3332       0     0     1              48.5  53.900002  717.0   \n",
       "3            3332       0     0     1              48.5  54.799999  770.0   \n",
       "4            3332       0     0     1              48.5  56.900002  885.0   \n",
       "\n",
       "       time_since_intake_on  time_since_intake_off    on        off  \n",
       "Index                                                                \n",
       "0                       1.9              14.779591   7.0  38.620296  \n",
       "1                       1.9                   17.6  12.0       44.0  \n",
       "2                       1.2               14.87831   6.0  39.662327  \n",
       "3                       1.5              14.727922  11.0  40.183342  \n",
       "4                       0.3              14.326217  24.0  41.399048  "
      ]
     },
     "execution_count": 141,
     "metadata": {},
     "output_type": "execute_result"
    }
   ],
   "source": [
    "data.head()"
   ]
  }
 ],
 "metadata": {
  "kernelspec": {
   "display_name": "Python 3",
   "language": "python",
   "name": "python3"
  },
  "language_info": {
   "codemirror_mode": {
    "name": "ipython",
    "version": 3
   },
   "file_extension": ".py",
   "mimetype": "text/x-python",
   "name": "python",
   "nbconvert_exporter": "python",
   "pygments_lexer": "ipython3",
   "version": "3.9.6"
  }
 },
 "nbformat": 4,
 "nbformat_minor": 2
}
